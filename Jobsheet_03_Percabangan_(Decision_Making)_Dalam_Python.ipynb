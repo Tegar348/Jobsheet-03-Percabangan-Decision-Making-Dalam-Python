{
  "nbformat": 4,
  "nbformat_minor": 0,
  "metadata": {
    "colab": {
      "provenance": [],
      "authorship_tag": "ABX9TyNOWbB+mdeLfE+nPukap/iG",
      "include_colab_link": true
    },
    "kernelspec": {
      "name": "python3",
      "display_name": "Python 3"
    },
    "language_info": {
      "name": "python"
    }
  },
  "cells": [
    {
      "cell_type": "markdown",
      "metadata": {
        "id": "view-in-github",
        "colab_type": "text"
      },
      "source": [
        "<a href=\"https://colab.research.google.com/github/Tegar348/Jobsheet-03-Percabangan-Decision-Making-Dalam-Python/blob/main/Jobsheet_03_Percabangan_(Decision_Making)_Dalam_Python.ipynb\" target=\"_parent\"><img src=\"https://colab.research.google.com/assets/colab-badge.svg\" alt=\"Open In Colab\"/></a>"
      ]
    },
    {
      "cell_type": "markdown",
      "source": [
        "#Praktikum 01: If Sederhana"
      ],
      "metadata": {
        "id": "EDfOsKjTq8xX"
      }
    },
    {
      "cell_type": "code",
      "execution_count": null,
      "metadata": {
        "colab": {
          "base_uri": "https://localhost:8080/"
        },
        "id": "AhGg37LGqfxJ",
        "outputId": "c07940f7-966a-4a85-f02c-d3f10aa7d48e"
      },
      "outputs": [
        {
          "output_type": "stream",
          "name": "stdout",
          "text": [
            "Masukkan Nilai Ujian Anda: 70\n",
            " Anda dinyatakan LULUS\n"
          ]
        }
      ],
      "source": [
        "nilai = int(input(\"Masukkan Nilai Ujian Anda: \"))\n",
        "if nilai >= 60:\n",
        "  print(\" Anda dinyatakan LULUS\")"
      ]
    },
    {
      "cell_type": "markdown",
      "source": [
        "#Praktikum 02: If-Else"
      ],
      "metadata": {
        "id": "8jeuBR2hr1L6"
      }
    },
    {
      "cell_type": "code",
      "source": [
        "nilai = int(input(\"Masukkan Nilai Ujian Anda: \"))\n",
        "if nilai >= 60:\n",
        "  print(\" Anda dinyatakan LULUS\")\n",
        "else:\n",
        "  print(\"Anda dinyatakan TIDAK LULUS\")"
      ],
      "metadata": {
        "colab": {
          "base_uri": "https://localhost:8080/"
        },
        "id": "AKXYgoH9rvCS",
        "outputId": "11112c64-eb02-4106-db6c-e182afa9d3ad"
      },
      "execution_count": null,
      "outputs": [
        {
          "output_type": "stream",
          "name": "stdout",
          "text": [
            "Masukkan Nilai Ujian Anda: 50\n",
            "Anda dinyatakan TIDAK LULUS\n"
          ]
        }
      ]
    },
    {
      "cell_type": "markdown",
      "source": [
        "#Praktikum 03: If-Elif-Else"
      ],
      "metadata": {
        "id": "eYrW38YFsXSr"
      }
    },
    {
      "cell_type": "code",
      "source": [
        "nilai = int(input(\"Masukkan Nilai Akhir Ujian Anda: \"))\n",
        "if nilai >= 85:\n",
        "  grade = \"A\"\n",
        "elif nilai >= 70:\n",
        "  grade = \"B\"\n",
        "elif nilai >= 55:\n",
        "  grade = \"C\"\n",
        "elif nilai >= 40:\n",
        "  grade = \"D\"\n",
        "else:\n",
        "  grade = \"E\"\n",
        "print(f\"Nilai Anda {nilai}, maka grade Anda =  {grade}\")"
      ],
      "metadata": {
        "colab": {
          "base_uri": "https://localhost:8080/"
        },
        "id": "Q-SctD0usP34",
        "outputId": "9231f921-1ab4-4e59-b2ae-fb81cfc68fc1"
      },
      "execution_count": null,
      "outputs": [
        {
          "output_type": "stream",
          "name": "stdout",
          "text": [
            "Masukkan Nilai Akhir Ujian Anda: 78\n",
            "Nilai Anda 78, maka grade Anda =  B\n"
          ]
        }
      ]
    },
    {
      "cell_type": "markdown",
      "source": [
        "#Praktikum 04: Nested If"
      ],
      "metadata": {
        "id": "-aFUdu4nt9w7"
      }
    },
    {
      "cell_type": "code",
      "source": [
        "ipk = float(input(\"Masukkan IPK Anda: \"))\n",
        "sks = int(input(\"Masukkan jumlah SKS: \"))\n",
        "\n",
        "if ipk >= 3.0:\n",
        "  if sks >= 18:\n",
        "    print(\"Anda layak mendapatkan beasiswa\")\n",
        "  else:\n",
        "    print(\"IPK memenuhi, tapi SKS kurang sehingga Anda tidak layak mendapatkan beasiswa\")\n",
        "else:\n",
        "  print(\"SKS memenuhi, tapi IPK Anda kurang sehingga Anda tidak layak mendapatkan beasiswa\")"
      ],
      "metadata": {
        "colab": {
          "base_uri": "https://localhost:8080/"
        },
        "id": "Fh4Br_HytxqK",
        "outputId": "af1d34bf-161e-440f-d0f8-1f203e83fc82"
      },
      "execution_count": null,
      "outputs": [
        {
          "output_type": "stream",
          "name": "stdout",
          "text": [
            "Masukkan IPK Anda: 3.2\n",
            "Masukkan jumlah SKS: 20\n",
            "Anda layak mendapatkan beasiswa\n"
          ]
        }
      ]
    },
    {
      "cell_type": "markdown",
      "source": [
        "#Praktikum 05: Match-Case"
      ],
      "metadata": {
        "id": "kcwGv2p_vsgM"
      }
    },
    {
      "cell_type": "code",
      "source": [
        "menu = int(input(\"Masukkan pilihan menu (1-3): \"))\n",
        "match menu:\n",
        "  case 1:\n",
        "    print(\"Anda memilih Nasi Goreng\")\n",
        "  case 2:\n",
        "    print(\"Anda memilih Mie Ayam\")\n",
        "  case 3:\n",
        "    print(\"Anda memilih Soto Ayam\")\n",
        "  case _:\n",
        "    print(\"Menu tidak tersedia\")"
      ],
      "metadata": {
        "colab": {
          "base_uri": "https://localhost:8080/"
        },
        "id": "xEHBlVYsu1a3",
        "outputId": "6ea7a430-b133-456f-a402-4f359f37fcd3"
      },
      "execution_count": null,
      "outputs": [
        {
          "output_type": "stream",
          "name": "stdout",
          "text": [
            "Masukkan pilihan menu (1-3): 2\n",
            "Anda memilih Mie Ayam\n"
          ]
        }
      ]
    },
    {
      "cell_type": "markdown",
      "source": [
        "#Praktikum 06: Studi Kasus: Program Kasir"
      ],
      "metadata": {
        "id": "ITfDhnliwkPA"
      }
    },
    {
      "cell_type": "code",
      "source": [
        "barang = input(\"Masukkan nama barang: \")\n",
        "harga = float(input(\"Masukkan harga barang: \"))\n",
        "jumlah = int(input(\"Masukkan jumlah barang: \"))\n",
        "total = harga * jumlah\n",
        "\n",
        "if total >= 500000:\n",
        "  diskon = 0.2\n",
        "elif total >= 250000:\n",
        "  diskon = 0.1\n",
        "else:\n",
        "  diskon = 0\n",
        "\n",
        "bayar = total - (total * diskon)\n",
        "\n",
        "print(\"\\n===== Struk Belanja =====\")\n",
        "print(f\"Barang: {barang}\")\n",
        "print(f\"jumlah: {jumlah}\")\n",
        "print(f\"Total: Rp {total}\")\n",
        "print(f\"Diskon: {diskon*100}%\")\n",
        "print(f\"Bayar: Rp {bayar}\")"
      ],
      "metadata": {
        "colab": {
          "base_uri": "https://localhost:8080/"
        },
        "id": "nekHBTFhwZHL",
        "outputId": "59768f66-3c31-4883-d09e-695d98881387"
      },
      "execution_count": null,
      "outputs": [
        {
          "output_type": "stream",
          "name": "stdout",
          "text": [
            "Masukkan nama barang: Buku\n",
            "Masukkan harga barang: 60000\n",
            "Masukkan jumlah barang: 5\n",
            "\n",
            "===== Struk Belanja =====\n",
            "Barang: Buku\n",
            "jumlah: 5\n",
            "Total: Rp 300000.0\n",
            "Diskon: 10.0%\n",
            "Bayar: Rp 270000.0\n"
          ]
        }
      ]
    },
    {
      "cell_type": "markdown",
      "source": [
        "#Tugas No 03: Cek Bilangan Positif/Negatif/Nol"
      ],
      "metadata": {
        "id": "YxYk6X6x48IL"
      }
    },
    {
      "cell_type": "code",
      "source": [
        "bilangan = int(input(\"Masukkan bilangan: \"))\n",
        "if bilangan > 0:\n",
        "  print(f\"Bilangan {bilangan} bernilai positif\")\n",
        "elif bilangan < 0:\n",
        "  print(f\"Bilangan {bilangan} bernilai negatif\")\n",
        "else:\n",
        "  print(f\"Bilangan {bilangan} bernilai nol\")"
      ],
      "metadata": {
        "id": "aDFT5nyvyDX0",
        "colab": {
          "base_uri": "https://localhost:8080/"
        },
        "outputId": "1d287773-ea48-4941-d0a6-8a45bc785033"
      },
      "execution_count": null,
      "outputs": [
        {
          "output_type": "stream",
          "name": "stdout",
          "text": [
            "Masukkan bilangan: 68\n",
            "Bilangan 68 bernilai positif\n"
          ]
        }
      ]
    },
    {
      "cell_type": "markdown",
      "source": [
        "#Tugas No 04: Menentukan Kategori Usia"
      ],
      "metadata": {
        "id": "oj3TDIht6k36"
      }
    },
    {
      "cell_type": "code",
      "source": [
        "usia = int(input(\"Masukkan usia Anda: \"))\n",
        "if usia >= 60:\n",
        "  print(\"Kategori Lansia\")\n",
        "elif usia >= 18:\n",
        "  print(\"Kategori Dewasa\")\n",
        "elif usia >= 12:\n",
        "  print(\"Kategori Remaja\")\n",
        "elif usia >= 5:\n",
        "  print(\"Kategori Anak-anak\")\n",
        "else:\n",
        "  print(\"Kategori Balita\")"
      ],
      "metadata": {
        "colab": {
          "base_uri": "https://localhost:8080/"
        },
        "id": "Ly7rImzN521r",
        "outputId": "6f3b56c1-aade-43e4-ac7f-892819bb7a6c"
      },
      "execution_count": null,
      "outputs": [
        {
          "output_type": "stream",
          "name": "stdout",
          "text": [
            "Masukkan usia Anda: 4\n",
            "Kategori Balita\n"
          ]
        }
      ]
    },
    {
      "cell_type": "markdown",
      "source": [
        "#Tugas No 05: Menghitung Tarif Parkir"
      ],
      "metadata": {
        "id": "Hj9UZCgI8tTn"
      }
    },
    {
      "cell_type": "code",
      "metadata": {
        "colab": {
          "base_uri": "https://localhost:8080/"
        },
        "id": "e6e4b6b0",
        "outputId": "03395bb9-b486-4958-aeb3-21c13e4660b6"
      },
      "source": [
        "jam_masuk = int(input(\"Masukkan jam masuk (format 24 jam): \"))\n",
        "jam_keluar = int(input(\"Masukkan jam keluar (format 24 jam): \"))\n",
        "\n",
        "if jam_keluar >= jam_masuk:\n",
        "    durasi = jam_keluar - jam_masuk\n",
        "else:\n",
        "    durasi = (24 - jam_masuk) + jam_keluar\n",
        "\n",
        "if durasi <= 2:\n",
        "    tarif = 5000\n",
        "else:\n",
        "    tarif = 5000 + (durasi - 2) * 2000\n",
        "\n",
        "if tarif > 20000:\n",
        "    tarif = 20000\n",
        "\n",
        "print(f\"\\nDurasi parkir: {durasi} jam\")\n",
        "print(f\"Tarif parkir: Rp {tarif}\")"
      ],
      "execution_count": null,
      "outputs": [
        {
          "output_type": "stream",
          "name": "stdout",
          "text": [
            "Masukkan jam masuk (format 24 jam): 7\n",
            "Masukkan jam keluar (format 24 jam): 14\n",
            "\n",
            "Durasi parkir: 7 jam\n",
            "Tarif parkir: Rp 15000\n"
          ]
        }
      ]
    },
    {
      "cell_type": "markdown",
      "source": [
        "#Tugas No 06: Cek Login Sederhana"
      ],
      "metadata": {
        "id": "1-uiG2YpAUEB"
      }
    },
    {
      "cell_type": "code",
      "source": [
        "username = input(\"Masukkan username: \")\n",
        "password = input(\"Masukkan password: \")\n",
        "\n",
        "if username == \"admin\" and password == \"1234\":\n",
        "  print(\"Login berhasil\")\n",
        "else:\n",
        "  print(\"Login gagal, coba lagi\")"
      ],
      "metadata": {
        "colab": {
          "base_uri": "https://localhost:8080/"
        },
        "id": "05Dr-KSd52Jm",
        "outputId": "0ad206be-0485-4103-ff55-02098e81ff2a"
      },
      "execution_count": null,
      "outputs": [
        {
          "output_type": "stream",
          "name": "stdout",
          "text": [
            "Masukkan username: admin\n",
            "Masukkan password: 2345\n",
            "Login gagal. Coba lagi.\n"
          ]
        }
      ]
    },
    {
      "cell_type": "markdown",
      "source": [
        "#Tugas No 07: One-Liner If(Cek Genap/Ganjil)"
      ],
      "metadata": {
        "id": "Y_myYApuCgyp"
      }
    },
    {
      "cell_type": "code",
      "source": [
        "bilangan = int(input(\"Masukkan bilangan: \"))\n",
        "hasil = \"genap\" if bilangan % 2 == 0 else \"ganjil\"\n",
        "print(f\"Bilangan {bilangan} adalah bilangan {hasil}\")"
      ],
      "metadata": {
        "colab": {
          "base_uri": "https://localhost:8080/"
        },
        "id": "lrqL6afhBp5X",
        "outputId": "c64bb9dc-5a63-4063-b545-c28327aed626"
      },
      "execution_count": null,
      "outputs": [
        {
          "output_type": "stream",
          "name": "stdout",
          "text": [
            "Masukkan bilangan: 5\n",
            "Bilangan 5 adalah bilangan ganjil\n"
          ]
        }
      ]
    },
    {
      "cell_type": "markdown",
      "source": [
        "#Tugas No 08: Menu Restoran dengan Match-Case"
      ],
      "metadata": {
        "id": "PdUtreYkEAHa"
      }
    },
    {
      "cell_type": "code",
      "source": [
        "menu = int(input(\"Masukkan pilihan menu (1-3): \"))\n",
        "match menu:\n",
        "  case 1:\n",
        "    print(\"Anda memilih Nasi Goreng\")\n",
        "  case 2:\n",
        "    print(\"Anda memilih Mie Ayam\")\n",
        "  case 3:\n",
        "    print(\"Anda memilih Soto Ayam\")\n",
        "  case _:\n",
        "    print(\"Menu tidak tersedia\")"
      ],
      "metadata": {
        "colab": {
          "base_uri": "https://localhost:8080/"
        },
        "id": "5PLuGLGtD6aa",
        "outputId": "6abd0939-d6ac-4d9b-d188-127f8aa2e115"
      },
      "execution_count": null,
      "outputs": [
        {
          "output_type": "stream",
          "name": "stdout",
          "text": [
            "Masukkan pilihan menu (1-3): 5\n",
            "Menu tidak tersedia\n"
          ]
        }
      ]
    },
    {
      "cell_type": "markdown",
      "source": [
        "#Tugas No 09: Studi Kasus Nyata - Program Penentuan Diskon"
      ],
      "metadata": {
        "id": "xL88WMEfEyKz"
      }
    },
    {
      "cell_type": "code",
      "source": [
        "barang = input(\"Masukkan nama barang: \")\n",
        "harga = float(input(\"Masukkan harga barang: \"))\n",
        "jumlah = int(input(\"Masukkan jumlah barang: \"))\n",
        "total = harga * jumlah\n",
        "\n",
        "if total >= 500000:\n",
        "  diskon = 0.2\n",
        "elif total >= 250000:\n",
        "  diskon = 0.1\n",
        "else:\n",
        "  diskon = 0\n",
        "\n",
        "bayar = total - (total * diskon)\n",
        "\n",
        "print(\"\\n===== Struk Belanja =====\")\n",
        "print(f\"Nama Barang: {barang}\")\n",
        "print(f\"jumlah: {jumlah}\")\n",
        "print(f\"Total: Rp{total}\")\n",
        "print(f\"Diskon: {diskon*100}%\")\n",
        "print(f\"Jumlah Bayar: Rp{bayar}\")"
      ],
      "metadata": {
        "colab": {
          "base_uri": "https://localhost:8080/"
        },
        "id": "NN8b3BFeEq_k",
        "outputId": "7d4a3b8c-4a72-439d-e789-c54b192515d5"
      },
      "execution_count": null,
      "outputs": [
        {
          "output_type": "stream",
          "name": "stdout",
          "text": [
            "Masukkan nama barang: Tas\n",
            "Masukkan harga barang: 200000\n",
            "Masukkan jumlah barang: 3\n",
            "\n",
            "===== Struk Belanja =====\n",
            "Nama Barang: Tas\n",
            "jumlah: 3\n",
            "Total: Rp600000.0\n",
            "Diskon: 20.0%\n",
            "Jumlah Bayar: Rp480000.0\n"
          ]
        }
      ]
    }
  ]
}