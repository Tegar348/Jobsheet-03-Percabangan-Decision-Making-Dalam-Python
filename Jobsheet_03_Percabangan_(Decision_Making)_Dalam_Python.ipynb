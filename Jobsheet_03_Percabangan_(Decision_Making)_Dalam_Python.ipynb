{
  "nbformat": 4,
  "nbformat_minor": 0,
  "metadata": {
    "colab": {
      "provenance": [],
      "authorship_tag": "ABX9TyMHrQkYby3iLcrv/rusQtU5",
      "include_colab_link": true
    },
    "kernelspec": {
      "name": "python3",
      "display_name": "Python 3"
    },
    "language_info": {
      "name": "python"
    }
  },
  "cells": [
    {
      "cell_type": "markdown",
      "metadata": {
        "id": "view-in-github",
        "colab_type": "text"
      },
      "source": [
        "<a href=\"https://colab.research.google.com/github/Tegar348/Jobsheet-03-Percabangan-Decision-Making-Dalam-Python/blob/main/Jobsheet_03_Percabangan_(Decision_Making)_Dalam_Python.ipynb\" target=\"_parent\"><img src=\"https://colab.research.google.com/assets/colab-badge.svg\" alt=\"Open In Colab\"/></a>"
      ]
    },
    {
      "cell_type": "markdown",
      "source": [
        "#Praktikum 01: If Sederhana"
      ],
      "metadata": {
        "id": "EDfOsKjTq8xX"
      }
    },
    {
      "cell_type": "code",
      "execution_count": null,
      "metadata": {
        "colab": {
          "base_uri": "https://localhost:8080/"
        },
        "id": "AhGg37LGqfxJ",
        "outputId": "c07940f7-966a-4a85-f02c-d3f10aa7d48e"
      },
      "outputs": [
        {
          "output_type": "stream",
          "name": "stdout",
          "text": [
            "Masukkan Nilai Ujian Anda: 70\n",
            " Anda dinyatakan LULUS\n"
          ]
        }
      ],
      "source": [
        "nilai = int(input(\"Masukkan Nilai Ujian Anda: \"))\n",
        "if nilai >= 60:\n",
        "  print(\" Anda dinyatakan LULUS\")"
      ]
    },
    {
      "cell_type": "markdown",
      "source": [
        "#Praktikum 02: If-Else"
      ],
      "metadata": {
        "id": "8jeuBR2hr1L6"
      }
    },
    {
      "cell_type": "code",
      "source": [
        "nilai = int(input(\"Masukkan Nilai Ujian Anda: \"))\n",
        "if nilai >= 60:\n",
        "  print(\" Anda dinyatakan LULUS\")\n",
        "else:\n",
        "  print(\"Anda dinyatakan TIDAK LULUS\")"
      ],
      "metadata": {
        "colab": {
          "base_uri": "https://localhost:8080/"
        },
        "id": "AKXYgoH9rvCS",
        "outputId": "11112c64-eb02-4106-db6c-e182afa9d3ad"
      },
      "execution_count": null,
      "outputs": [
        {
          "output_type": "stream",
          "name": "stdout",
          "text": [
            "Masukkan Nilai Ujian Anda: 50\n",
            "Anda dinyatakan TIDAK LULUS\n"
          ]
        }
      ]
    },
    {
      "cell_type": "markdown",
      "source": [
        "#Praktikum 03: If-Elif-Else"
      ],
      "metadata": {
        "id": "eYrW38YFsXSr"
      }
    },
    {
      "cell_type": "code",
      "source": [
        "nilai = int(input(\"Masukkan Nilai Akhir Ujian Anda: \"))\n",
        "if nilai >= 85:\n",
        "  grade = \"A\"\n",
        "elif nilai >= 70:\n",
        "  grade = \"B\"\n",
        "elif nilai >= 55:\n",
        "  grade = \"C\"\n",
        "elif nilai >= 40:\n",
        "  grade = \"D\"\n",
        "else:\n",
        "  grade = \"E\"\n",
        "print(f\"Nilai Anda {nilai}, maka grade Anda =  {grade}\")"
      ],
      "metadata": {
        "colab": {
          "base_uri": "https://localhost:8080/"
        },
        "id": "Q-SctD0usP34",
        "outputId": "9231f921-1ab4-4e59-b2ae-fb81cfc68fc1"
      },
      "execution_count": null,
      "outputs": [
        {
          "output_type": "stream",
          "name": "stdout",
          "text": [
            "Masukkan Nilai Akhir Ujian Anda: 78\n",
            "Nilai Anda 78, maka grade Anda =  B\n"
          ]
        }
      ]
    },
    {
      "cell_type": "markdown",
      "source": [
        "#Praktikum 04: Nested If"
      ],
      "metadata": {
        "id": "-aFUdu4nt9w7"
      }
    },
    {
      "cell_type": "code",
      "source": [
        "ipk = float(input(\"Masukkan IPK Anda: \"))\n",
        "sks = int(input(\"Masukkan jumlah SKS: \"))\n",
        "\n",
        "if ipk >= 3.0:\n",
        "  if sks >= 18:\n",
        "    print(\"Anda layak mendapatkan beasiswa\")\n",
        "  else:\n",
        "    print(\"IPK memenuhi, tapi SKS kurang sehingga Anda tidak layak mendapatkan beasiswa\")\n",
        "else:\n",
        "  print(\"SKS memenuhi, tapi IPK Anda kurang sehingga Anda tidak layak mendapatkan beasiswa\")"
      ],
      "metadata": {
        "colab": {
          "base_uri": "https://localhost:8080/"
        },
        "id": "Fh4Br_HytxqK",
        "outputId": "dedd9a57-6406-49a3-d44a-b6ea7c61c74e"
      },
      "execution_count": 2,
      "outputs": [
        {
          "output_type": "stream",
          "name": "stdout",
          "text": [
            "Masukkan IPK Anda: 2.8\n",
            "Masukkan jumlah SKS: 20\n",
            "SKS memenuhi, tapi IPK Anda kurang sehingga Anda tidak layak mendapatkan beasiswa\n"
          ]
        }
      ]
    },
    {
      "cell_type": "markdown",
      "source": [
        "#Praktikum 05: Match-Case"
      ],
      "metadata": {
        "id": "kcwGv2p_vsgM"
      }
    },
    {
      "cell_type": "code",
      "source": [
        "menu = int(input(\"Masukkan pilihan menu (1-3): \"))\n",
        "match menu:\n",
        "  case 1:\n",
        "    print(\"Anda memilih Nasi Goreng\")\n",
        "  case 2:\n",
        "    print(\"Anda memilih Mie Ayam\")\n",
        "  case 3:\n",
        "    print(\"Anda memilih Soto Ayam\")\n",
        "  case _:\n",
        "    print(\"Menu tidak tersedia\")"
      ],
      "metadata": {
        "colab": {
          "base_uri": "https://localhost:8080/"
        },
        "id": "xEHBlVYsu1a3",
        "outputId": "615d6fd2-49e8-46f0-d5f5-cd1fc0e5dcb5"
      },
      "execution_count": 3,
      "outputs": [
        {
          "output_type": "stream",
          "name": "stdout",
          "text": [
            "Masukkan pilihan menu (1-3): 9\n",
            "Menu tidak tersedia\n"
          ]
        }
      ]
    },
    {
      "cell_type": "markdown",
      "source": [
        "#Praktikum 06: Studi Kasus: Program Kasir"
      ],
      "metadata": {
        "id": "ITfDhnliwkPA"
      }
    },
    {
      "cell_type": "code",
      "source": [
        "barang = input(\"Masukkan nama barang: \")\n",
        "harga = float(input(\"Masukkan harga barang: \"))\n",
        "jumlah = int(input(\"Masukkan jumlah barang: \"))\n",
        "total = harga * jumlah\n",
        "\n",
        "if total >= 500000:\n",
        "  diskon = 0.2\n",
        "elif total >= 250000:\n",
        "  diskon = 0.1\n",
        "else:\n",
        "  diskon = 0\n",
        "\n",
        "bayar = total - (total * diskon)\n",
        "\n",
        "print(\"\\n===== Struk Belanja =====\")\n",
        "print(f\"Barang: {barang}\")\n",
        "print(f\"jumlah: {jumlah}\")\n",
        "print(f\"Total: Rp {total}\")\n",
        "print(f\"Diskon: {diskon*100}%\")\n",
        "print(f\"Bayar: Rp {bayar}\")"
      ],
      "metadata": {
        "colab": {
          "base_uri": "https://localhost:8080/"
        },
        "id": "nekHBTFhwZHL",
        "outputId": "676e096b-9863-4ff2-941a-0c8391852771"
      },
      "execution_count": 5,
      "outputs": [
        {
          "output_type": "stream",
          "name": "stdout",
          "text": [
            "Masukkan nama barang: Pulpen\n",
            "Masukkan harga barang: 5000\n",
            "Masukkan jumlah barang: 10\n",
            "\n",
            "===== Struk Belanja =====\n",
            "Barang: Pulpen\n",
            "jumlah: 10\n",
            "Total: Rp 50000.0\n",
            "Diskon: 0%\n",
            "Bayar: Rp 50000.0\n"
          ]
        }
      ]
    },
    {
      "cell_type": "code",
      "source": [],
      "metadata": {
        "id": "aDFT5nyvyDX0"
      },
      "execution_count": null,
      "outputs": []
    }
  ]
}